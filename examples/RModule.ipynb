{
 "cells": [
  {
   "cell_type": "markdown",
   "metadata": {},
   "source": [
    "# $R$-Module  \n",
    "## Doing $R$-module (equipped with Hadamard operators) algebraic operations; addition, multiplication, and element-wise Hadamard operations  \n",
    "\n",
    "Certainly, we'd want to ensure, or at least evince, through examples that we can do the same algebraic operations, addition, multiplication, and some element-wise Hadamard operations (element-wise addition and multiplication).  "
   ]
  },
  {
   "cell_type": "code",
   "execution_count": 1,
   "metadata": {},
   "outputs": [],
   "source": [
    "import numpy \n",
    "import numpy as np"
   ]
  },
  {
   "cell_type": "code",
   "execution_count": 4,
   "metadata": {},
   "outputs": [],
   "source": [
    "m=6\n",
    "n=4\n",
    "k=5"
   ]
  },
  {
   "cell_type": "markdown",
   "metadata": {},
   "source": [
    "cf. [Matrix computations\n",
    "on the GPU\n",
    "CUBLAS and MAGMA by example](http://cg.inf.elte.hu/~gpgpu/cuda/linux/07_cublas/mygpu.pdf)"
   ]
  },
  {
   "cell_type": "code",
   "execution_count": 10,
   "metadata": {},
   "outputs": [],
   "source": [
    "a = np.array(range(11,41)).reshape((k,m)).T"
   ]
  },
  {
   "cell_type": "code",
   "execution_count": 11,
   "metadata": {},
   "outputs": [
    {
     "name": "stdout",
     "output_type": "stream",
     "text": [
      "[[11 17 23 29 35]\n",
      " [12 18 24 30 36]\n",
      " [13 19 25 31 37]\n",
      " [14 20 26 32 38]\n",
      " [15 21 27 33 39]\n",
      " [16 22 28 34 40]]\n"
     ]
    }
   ],
   "source": [
    "print(a)"
   ]
  },
  {
   "cell_type": "code",
   "execution_count": 12,
   "metadata": {},
   "outputs": [],
   "source": [
    "b = np.array(range(11,31)).reshape((n,k)).T"
   ]
  },
  {
   "cell_type": "code",
   "execution_count": 13,
   "metadata": {},
   "outputs": [
    {
     "name": "stdout",
     "output_type": "stream",
     "text": [
      "[[11 16 21 26]\n",
      " [12 17 22 27]\n",
      " [13 18 23 28]\n",
      " [14 19 24 29]\n",
      " [15 20 25 30]]\n"
     ]
    }
   ],
   "source": [
    "print(b)"
   ]
  },
  {
   "cell_type": "code",
   "execution_count": 14,
   "metadata": {},
   "outputs": [],
   "source": [
    "c = np.array(range(11,35)).reshape((n,m)).T"
   ]
  },
  {
   "cell_type": "code",
   "execution_count": 15,
   "metadata": {},
   "outputs": [
    {
     "name": "stdout",
     "output_type": "stream",
     "text": [
      "[[11 17 23 29]\n",
      " [12 18 24 30]\n",
      " [13 19 25 31]\n",
      " [14 20 26 32]\n",
      " [15 21 27 33]\n",
      " [16 22 28 34]]\n"
     ]
    }
   ],
   "source": [
    "print(c)"
   ]
  },
  {
   "cell_type": "code",
   "execution_count": 16,
   "metadata": {},
   "outputs": [
    {
     "data": {
      "text/plain": [
       "array([[1555, 2130, 2705, 3280],\n",
       "       [1620, 2220, 2820, 3420],\n",
       "       [1685, 2310, 2935, 3560],\n",
       "       [1750, 2400, 3050, 3700],\n",
       "       [1815, 2490, 3165, 3840],\n",
       "       [1880, 2580, 3280, 3980]])"
      ]
     },
     "execution_count": 16,
     "metadata": {},
     "output_type": "execute_result"
    }
   ],
   "source": [
    "np.matmul(a,b)"
   ]
  },
  {
   "cell_type": "code",
   "execution_count": 21,
   "metadata": {},
   "outputs": [
    {
     "data": {
      "text/plain": [
       "array([[11,  0,  0,  0],\n",
       "       [ 0, 12,  0,  0],\n",
       "       [ 0,  0, 13,  0],\n",
       "       [ 0,  0,  0, 14]])"
      ]
     },
     "execution_count": 21,
     "metadata": {},
     "output_type": "execute_result"
    }
   ],
   "source": [
    "np.diag(range(11,15))"
   ]
  },
  {
   "cell_type": "code",
   "execution_count": 18,
   "metadata": {},
   "outputs": [
    {
     "data": {
      "text/plain": [
       "array([ 1.,  1.,  1.,  1.,  1.,  1.,  1.,  1.,  1.,  1.,  1.,  1.,  1.,\n",
       "        1.,  1.,  1.,  1.,  1.,  1.,  1.,  1.,  1.,  1.,  1.])"
      ]
     },
     "execution_count": 18,
     "metadata": {},
     "output_type": "execute_result"
    }
   ],
   "source": [
    "np.ones(m*n)"
   ]
  },
  {
   "cell_type": "code",
   "execution_count": 26,
   "metadata": {},
   "outputs": [
    {
     "data": {
      "text/plain": [
       "array([[ 11.,  12.,  13.,  14.],\n",
       "       [ 11.,  12.,  13.,  14.],\n",
       "       [ 11.,  12.,  13.,  14.],\n",
       "       [ 11.,  12.,  13.,  14.],\n",
       "       [ 11.,  12.,  13.,  14.],\n",
       "       [ 11.,  12.,  13.,  14.]])"
      ]
     },
     "execution_count": 26,
     "metadata": {},
     "output_type": "execute_result"
    }
   ],
   "source": [
    "# bias_broadcasted\n",
    "np.matmul( np.ones(m*n).reshape((m,n)) , np.diag(range(11,15))  )"
   ]
  },
  {
   "cell_type": "code",
   "execution_count": 27,
   "metadata": {},
   "outputs": [
    {
     "data": {
      "text/plain": [
       "array([[ 1566.,  2142.,  2718.,  3294.],\n",
       "       [ 1631.,  2232.,  2833.,  3434.],\n",
       "       [ 1696.,  2322.,  2948.,  3574.],\n",
       "       [ 1761.,  2412.,  3063.,  3714.],\n",
       "       [ 1826.,  2502.,  3178.,  3854.],\n",
       "       [ 1891.,  2592.,  3293.,  3994.]])"
      ]
     },
     "execution_count": 27,
     "metadata": {},
     "output_type": "execute_result"
    }
   ],
   "source": [
    "# a*b + bias_broadcasted\n",
    "np.matmul(a,b) + np.matmul( np.ones(m*n).reshape((m,n)) , np.diag(range(11,15))  )"
   ]
  },
  {
   "cell_type": "markdown",
   "metadata": {},
   "source": [
    "Now compare these results with running `cuBlackDream/examples/RModule.cu`; here is a tip for compilation:  \n",
    "\n",
    "`nvcc -std=c++14 -arch='sm_52' -lcublas ../src/Axon/Axon.cu ../src/Axon/activationf.cu RModule.cu -o RModule.exe`  \n"
   ]
  },
  {
   "cell_type": "code",
   "execution_count": null,
   "metadata": {},
   "outputs": [],
   "source": []
  }
 ],
 "metadata": {
  "kernelspec": {
   "display_name": "Python 2",
   "language": "python",
   "name": "python2"
  },
  "language_info": {
   "codemirror_mode": {
    "name": "ipython",
    "version": 2
   },
   "file_extension": ".py",
   "mimetype": "text/x-python",
   "name": "python",
   "nbconvert_exporter": "python",
   "pygments_lexer": "ipython2",
   "version": "2.7.13"
  }
 },
 "nbformat": 4,
 "nbformat_minor": 2
}
