{
 "cells": [
  {
   "cell_type": "code",
   "execution_count": 3,
   "metadata": {},
   "outputs": [],
   "source": [
    "%matplotlib inline"
   ]
  },
  {
   "cell_type": "code",
   "execution_count": 4,
   "metadata": {},
   "outputs": [],
   "source": [
    "import matplotlib.pyplot as plt"
   ]
  },
  {
   "cell_type": "code",
   "execution_count": 5,
   "metadata": {},
   "outputs": [],
   "source": [
    "import numpy\n",
    "import numpy as np\n",
    "import pandas\n",
    "import pandas as pd"
   ]
  },
  {
   "cell_type": "code",
   "execution_count": 6,
   "metadata": {},
   "outputs": [
    {
     "name": "stdout",
     "output_type": "stream",
     "text": [
      "/home/topolo/PropD/cuBlackDream/examples\n",
      "['ex1data1.txt', 'ex1data2.txt']\n"
     ]
    }
   ],
   "source": [
    "import os, sys\n",
    "print(os.getcwd() )\n",
    "print( os.listdir( \"../data/\") )"
   ]
  },
  {
   "cell_type": "code",
   "execution_count": 7,
   "metadata": {},
   "outputs": [],
   "source": [
    "ex1data1DF = pd.read_csv(\"../data/ex1data1.txt\",header=None)\n",
    "ex1data2DF = pd.read_csv(\"../data/ex1data2.txt\", header=None)"
   ]
  },
  {
   "cell_type": "code",
   "execution_count": 8,
   "metadata": {},
   "outputs": [
    {
     "name": "stdout",
     "output_type": "stream",
     "text": [
      "(97,)\n",
      "(97,)\n",
      "(47, 2)\n",
      "(47,)\n",
      "(97, 1)\n",
      "(97, 1)\n",
      "(47, 2)\n",
      "(47, 1)\n"
     ]
    }
   ],
   "source": [
    "Xyex1data1 = ex1data1DF.values\n",
    "Xex1data1 = Xyex1data1[:,0]\n",
    "yex1data1 = Xyex1data1[:,1]\n",
    "Xyex1data2 = ex1data2DF.values\n",
    "Xex1data2 = Xyex1data2[:,0:-1]\n",
    "yex1data2 = Xyex1data2[:,-1]\n",
    "print(Xex1data1.shape)\n",
    "print(yex1data1.shape)\n",
    "print(Xex1data2.shape)\n",
    "print(yex1data2.shape)\n",
    "Xex1data1 = np.vstack( Xex1data1 )\n",
    "yex1data1 = np.vstack( yex1data1 )\n",
    "yex1data2 = np.vstack( yex1data2 )\n",
    "print(Xex1data1.shape)\n",
    "print(yex1data1.shape)\n",
    "print(Xex1data2.shape)\n",
    "print(yex1data2.shape)"
   ]
  },
  {
   "cell_type": "code",
   "execution_count": 31,
   "metadata": {},
   "outputs": [],
   "source": [
    "Theta=np.array([0.])\n",
    "b = np.array([0.])"
   ]
  },
  {
   "cell_type": "code",
   "execution_count": 8,
   "metadata": {},
   "outputs": [
    {
     "name": "stdout",
     "output_type": "stream",
     "text": [
      "[ 0.  0.  0.  0.  0.  0.  0.  0.  0.  0.  0.  0.  0.  0.  0.  0.  0.  0.\n",
      "  0.  0.  0.  0.  0.  0.  0.  0.  0.  0.  0.  0.  0.  0.  0.  0.  0.  0.\n",
      "  0.  0.  0.  0.  0.  0.  0.  0.  0.  0.  0.  0.  0.  0.  0.  0.  0.  0.\n",
      "  0.  0.  0.  0.  0.  0.  0.  0.  0.  0.  0.  0.  0.  0.  0.  0.  0.  0.\n",
      "  0.  0.  0.  0.  0.  0.  0.  0.  0.  0.  0.  0.  0.  0.  0.  0.  0.  0.\n",
      "  0.  0.  0.  0.  0.  0.  0.]\n"
     ]
    }
   ],
   "source": [
    "a1 = np.matmul( Xex1data1, Theta) + b\n",
    "print(a1)"
   ]
  },
  {
   "cell_type": "code",
   "execution_count": 9,
   "metadata": {},
   "outputs": [
    {
     "name": "stdout",
     "output_type": "stream",
     "text": [
      "[-17.592    -9.1302  -13.662   -11.854    -6.8233  -11.886    -4.3483  -12.\n",
      "  -6.5987   -3.8166   -3.2522  -15.505    -3.1551   -7.2258   -0.71618\n",
      "  -3.5129   -5.3048   -0.56077  -3.6518   -5.3893   -3.1386  -21.767\n",
      "  -4.263    -5.1875   -3.0825  -22.638   -13.501    -7.0467  -14.692\n",
      " -24.147     1.22     -5.9966  -12.134    -1.8495   -6.5426   -4.5623\n",
      "  -4.1164   -3.3928  -10.117    -5.4974   -0.55657  -3.9115   -5.3854\n",
      "  -2.4406   -6.7318   -1.0463   -5.1337   -1.844    -8.0043   -1.0179\n",
      "  -6.7504   -1.8396   -4.2885   -4.9981   -1.4233    1.4211   -2.4756\n",
      "  -4.6042   -3.9624   -5.4141   -5.1694    0.74279 -17.929   -12.054\n",
      " -17.054    -4.8852   -5.7442   -7.7754   -1.0173  -20.992    -6.6799\n",
      "  -4.0259   -1.2784   -3.3411    2.6807   -0.29678  -3.8845   -5.7014\n",
      "  -6.7526   -2.0576   -0.47953  -0.20421  -0.67861  -7.5435   -5.3436\n",
      "  -4.2415   -6.7981   -0.92695  -0.152    -2.8214   -1.8451   -4.2959\n",
      "  -7.2029   -1.9869   -0.14454  -9.0551   -0.61705]\n"
     ]
    }
   ],
   "source": [
    "res = np.vstack(a1) - yex1data1\n",
    "print(np.hstack(res))"
   ]
  },
  {
   "cell_type": "code",
   "execution_count": 10,
   "metadata": {},
   "outputs": [
    {
     "data": {
      "text/plain": [
       "array([ 6222.11037223])"
      ]
     },
     "execution_count": 10,
     "metadata": {},
     "output_type": "execute_result"
    }
   ],
   "source": [
    "np.matmul( np.hstack(res) , res)"
   ]
  },
  {
   "cell_type": "code",
   "execution_count": 11,
   "metadata": {},
   "outputs": [
    {
     "data": {
      "text/plain": [
       "array([ 32.07273388])"
      ]
     },
     "execution_count": 11,
     "metadata": {},
     "output_type": "execute_result"
    }
   ],
   "source": [
    "0.5 * np.matmul( np.hstack(res) , res) / (float( Xex1data1.size ) )"
   ]
  },
  {
   "cell_type": "code",
   "execution_count": 12,
   "metadata": {},
   "outputs": [
    {
     "data": {
      "text/plain": [
       "97"
      ]
     },
     "execution_count": 12,
     "metadata": {},
     "output_type": "execute_result"
    }
   ],
   "source": [
    "Xex1data1.size"
   ]
  },
  {
   "cell_type": "code",
   "execution_count": 13,
   "metadata": {},
   "outputs": [
    {
     "data": {
      "text/plain": [
       "array([-65.32884975])"
      ]
     },
     "execution_count": 13,
     "metadata": {},
     "output_type": "execute_result"
    }
   ],
   "source": [
    "np.matmul( np.hstack(res) , Xex1data1) / (float( Xex1data1.size ))"
   ]
  },
  {
   "cell_type": "code",
   "execution_count": 32,
   "metadata": {},
   "outputs": [],
   "source": [
    "def feedfwd(X,Theta,b):\n",
    "    a1 = np.matmul(X,Theta)\n",
    "    a1b = a1 + b\n",
    "    return a1,a1b"
   ]
  },
  {
   "cell_type": "code",
   "execution_count": 33,
   "metadata": {},
   "outputs": [],
   "source": [
    "def costJ(X,Theta,b,y):\n",
    "    m =X.shape[0]\n",
    "    a1,a1b = feedfwd(X,Theta,b)\n",
    "    res = (np.vstack(a1b) - y)\n",
    "    J = 0.5 * np.matmul( np.hstack(res),res) /float(m)\n",
    "    return res,J"
   ]
  },
  {
   "cell_type": "code",
   "execution_count": 16,
   "metadata": {},
   "outputs": [],
   "source": [
    "a1_temp,a1b_temp = feedfwd(Xex1data1,Theta,b)"
   ]
  },
  {
   "cell_type": "code",
   "execution_count": 17,
   "metadata": {},
   "outputs": [
    {
     "data": {
      "text/plain": [
       "array([ 0.,  0.,  0.,  0.,  0.,  0.,  0.,  0.,  0.,  0.,  0.,  0.,  0.,\n",
       "        0.,  0.,  0.,  0.,  0.,  0.,  0.,  0.,  0.,  0.,  0.,  0.,  0.,\n",
       "        0.,  0.,  0.,  0.,  0.,  0.,  0.,  0.,  0.,  0.,  0.,  0.,  0.,\n",
       "        0.,  0.,  0.,  0.,  0.,  0.,  0.,  0.,  0.,  0.,  0.,  0.,  0.,\n",
       "        0.,  0.,  0.,  0.,  0.,  0.,  0.,  0.,  0.,  0.,  0.,  0.,  0.,\n",
       "        0.,  0.,  0.,  0.,  0.,  0.,  0.,  0.,  0.,  0.,  0.,  0.,  0.,\n",
       "        0.,  0.,  0.,  0.,  0.,  0.,  0.,  0.,  0.,  0.,  0.,  0.,  0.,\n",
       "        0.,  0.,  0.,  0.,  0.,  0.])"
      ]
     },
     "execution_count": 17,
     "metadata": {},
     "output_type": "execute_result"
    }
   ],
   "source": [
    "a1b_temp"
   ]
  },
  {
   "cell_type": "code",
   "execution_count": 16,
   "metadata": {},
   "outputs": [
    {
     "data": {
      "text/plain": [
       "(array([ 0.,  0.,  0.,  0.,  0.,  0.,  0.,  0.,  0.,  0.,  0.,  0.,  0.,\n",
       "         0.,  0.,  0.,  0.,  0.,  0.,  0.,  0.,  0.,  0.,  0.,  0.,  0.,\n",
       "         0.,  0.,  0.,  0.,  0.,  0.,  0.,  0.,  0.,  0.,  0.,  0.,  0.,\n",
       "         0.,  0.,  0.,  0.,  0.,  0.,  0.,  0.,  0.,  0.,  0.,  0.,  0.,\n",
       "         0.,  0.,  0.,  0.,  0.,  0.,  0.,  0.,  0.,  0.,  0.,  0.,  0.,\n",
       "         0.,  0.,  0.,  0.,  0.,  0.,  0.,  0.,  0.,  0.,  0.,  0.,  0.,\n",
       "         0.,  0.,  0.,  0.,  0.,  0.,  0.,  0.,  0.,  0.,  0.,  0.,  0.,\n",
       "         0.,  0.,  0.,  0.,  0.]),\n",
       " array([ 0.,  0.,  0.,  0.,  0.,  0.,  0.,  0.,  0.,  0.,  0.,  0.,  0.,\n",
       "         0.,  0.,  0.,  0.,  0.,  0.,  0.,  0.,  0.,  0.,  0.,  0.,  0.,\n",
       "         0.,  0.,  0.,  0.,  0.,  0.,  0.,  0.,  0.,  0.,  0.,  0.,  0.,\n",
       "         0.,  0.,  0.,  0.,  0.,  0.,  0.,  0.,  0.,  0.,  0.,  0.,  0.,\n",
       "         0.,  0.,  0.,  0.,  0.,  0.,  0.,  0.,  0.,  0.,  0.,  0.,  0.,\n",
       "         0.,  0.,  0.,  0.,  0.,  0.,  0.,  0.,  0.,  0.,  0.,  0.,  0.,\n",
       "         0.,  0.,  0.,  0.,  0.,  0.,  0.,  0.,  0.,  0.,  0.,  0.,  0.,\n",
       "         0.,  0.,  0.,  0.,  0.]))"
      ]
     },
     "execution_count": 16,
     "metadata": {},
     "output_type": "execute_result"
    }
   ],
   "source": [
    "feedfwd(Xex1data1,Theta,b)"
   ]
  },
  {
   "cell_type": "code",
   "execution_count": 18,
   "metadata": {},
   "outputs": [
    {
     "data": {
      "text/plain": [
       "(array([[-17.592  ],\n",
       "        [ -9.1302 ],\n",
       "        [-13.662  ],\n",
       "        [-11.854  ],\n",
       "        [ -6.8233 ],\n",
       "        [-11.886  ],\n",
       "        [ -4.3483 ],\n",
       "        [-12.     ],\n",
       "        [ -6.5987 ],\n",
       "        [ -3.8166 ],\n",
       "        [ -3.2522 ],\n",
       "        [-15.505  ],\n",
       "        [ -3.1551 ],\n",
       "        [ -7.2258 ],\n",
       "        [ -0.71618],\n",
       "        [ -3.5129 ],\n",
       "        [ -5.3048 ],\n",
       "        [ -0.56077],\n",
       "        [ -3.6518 ],\n",
       "        [ -5.3893 ],\n",
       "        [ -3.1386 ],\n",
       "        [-21.767  ],\n",
       "        [ -4.263  ],\n",
       "        [ -5.1875 ],\n",
       "        [ -3.0825 ],\n",
       "        [-22.638  ],\n",
       "        [-13.501  ],\n",
       "        [ -7.0467 ],\n",
       "        [-14.692  ],\n",
       "        [-24.147  ],\n",
       "        [  1.22   ],\n",
       "        [ -5.9966 ],\n",
       "        [-12.134  ],\n",
       "        [ -1.8495 ],\n",
       "        [ -6.5426 ],\n",
       "        [ -4.5623 ],\n",
       "        [ -4.1164 ],\n",
       "        [ -3.3928 ],\n",
       "        [-10.117  ],\n",
       "        [ -5.4974 ],\n",
       "        [ -0.55657],\n",
       "        [ -3.9115 ],\n",
       "        [ -5.3854 ],\n",
       "        [ -2.4406 ],\n",
       "        [ -6.7318 ],\n",
       "        [ -1.0463 ],\n",
       "        [ -5.1337 ],\n",
       "        [ -1.844  ],\n",
       "        [ -8.0043 ],\n",
       "        [ -1.0179 ],\n",
       "        [ -6.7504 ],\n",
       "        [ -1.8396 ],\n",
       "        [ -4.2885 ],\n",
       "        [ -4.9981 ],\n",
       "        [ -1.4233 ],\n",
       "        [  1.4211 ],\n",
       "        [ -2.4756 ],\n",
       "        [ -4.6042 ],\n",
       "        [ -3.9624 ],\n",
       "        [ -5.4141 ],\n",
       "        [ -5.1694 ],\n",
       "        [  0.74279],\n",
       "        [-17.929  ],\n",
       "        [-12.054  ],\n",
       "        [-17.054  ],\n",
       "        [ -4.8852 ],\n",
       "        [ -5.7442 ],\n",
       "        [ -7.7754 ],\n",
       "        [ -1.0173 ],\n",
       "        [-20.992  ],\n",
       "        [ -6.6799 ],\n",
       "        [ -4.0259 ],\n",
       "        [ -1.2784 ],\n",
       "        [ -3.3411 ],\n",
       "        [  2.6807 ],\n",
       "        [ -0.29678],\n",
       "        [ -3.8845 ],\n",
       "        [ -5.7014 ],\n",
       "        [ -6.7526 ],\n",
       "        [ -2.0576 ],\n",
       "        [ -0.47953],\n",
       "        [ -0.20421],\n",
       "        [ -0.67861],\n",
       "        [ -7.5435 ],\n",
       "        [ -5.3436 ],\n",
       "        [ -4.2415 ],\n",
       "        [ -6.7981 ],\n",
       "        [ -0.92695],\n",
       "        [ -0.152  ],\n",
       "        [ -2.8214 ],\n",
       "        [ -1.8451 ],\n",
       "        [ -4.2959 ],\n",
       "        [ -7.2029 ],\n",
       "        [ -1.9869 ],\n",
       "        [ -0.14454],\n",
       "        [ -9.0551 ],\n",
       "        [ -0.61705]]), array([ 32.07273388]))"
      ]
     },
     "execution_count": 18,
     "metadata": {},
     "output_type": "execute_result"
    }
   ],
   "source": [
    "costJ(Xex1data1,Theta,b,yex1data1)"
   ]
  },
  {
   "cell_type": "code",
   "execution_count": 34,
   "metadata": {},
   "outputs": [],
   "source": [
    "def grad_desc_1( a0, yhat, y , Theta, b, alpha): \n",
    "    m = y.shape[0]\n",
    "    \n",
    "    res = np.vstack(yhat) - y \n",
    "    d_Theta = np.matmul( np.hstack(res), a0 ) \n",
    "    d_b = np.sum( res, axis=0)\n",
    "    Thetatp1 = Theta - alpha * d_Theta/(float(m)) # gradient descent\n",
    "    btp1 = b - alpha * d_b / (float(m)) # gradient descent\n",
    "    return d_Theta,d_b , Thetatp1, btp1"
   ]
  },
  {
   "cell_type": "code",
   "execution_count": 20,
   "metadata": {},
   "outputs": [
    {
     "data": {
      "text/plain": [
       "(array([-6336.89842532]),\n",
       " array([-566.3961]),\n",
       " array([ 0.6532885]),\n",
       " array([ 0.05839135]))"
      ]
     },
     "execution_count": 20,
     "metadata": {},
     "output_type": "execute_result"
    }
   ],
   "source": [
    "grad_desc_1( Xex1data1, a1b_temp , yex1data1, Theta,b,0.01)"
   ]
  },
  {
   "cell_type": "code",
   "execution_count": 35,
   "metadata": {},
   "outputs": [],
   "source": [
    "def gradDesc( X,y, Theta_0,b_0, alpha, iters):\n",
    "    Theta=Theta_0\n",
    "    b=b_0\n",
    "    params_hist = []\n",
    "    for iter in range(iters):\n",
    "        a1,a1b = feedfwd(X,Theta,b) \n",
    "        res,J = costJ(X,Theta,b,y)\n",
    "        d_Theta,d_b,Thetatp1,btp1 = grad_desc_1(X,np.vstack(a1b),y,Theta,b,alpha)\n",
    "        Theta = Thetatp1\n",
    "        b=btp1 # update\n",
    "        params = list( [a1,a1b,res,J,d_Theta,d_b,Thetatp1,btp1 ])\n",
    "        params_hist.append(params)\n",
    "    return params_hist"
   ]
  },
  {
   "cell_type": "markdown",
   "metadata": {},
   "source": [
    "cf. [stackoverflow, measure runtime of a Jupyter Notebook code cell](https://stackoverflow.com/questions/43307653/measure-runtime-of-a-jupyter-notebook-code-cell)"
   ]
  },
  {
   "cell_type": "code",
   "execution_count": 36,
   "metadata": {},
   "outputs": [],
   "source": [
    "import timeit"
   ]
  },
  {
   "cell_type": "code",
   "execution_count": 39,
   "metadata": {},
   "outputs": [],
   "source": [
    "start_time = timeit.default_timer()\n",
    "result1500 = gradDesc(Xex1data1,yex1data1, Theta,b,0.01,1500)\n",
    "elapsedtime = timeit.default_timer() - start_time"
   ]
  },
  {
   "cell_type": "code",
   "execution_count": 40,
   "metadata": {},
   "outputs": [
    {
     "name": "stdout",
     "output_type": "stream",
     "text": [
      "1.15904808044\n"
     ]
    }
   ],
   "source": [
    "print(elapsedtime ) # in seconds"
   ]
  },
  {
   "cell_type": "code",
   "execution_count": 23,
   "metadata": {},
   "outputs": [],
   "source": [
    "a1,a1b = feedfwd(Xex1data1, Theta,b)\n",
    "res,J = costJ(Xex1data1,Theta,b,yex1data1)\n",
    "d_Theta,d_b,Theta1p1, btp1 = grad_desc_1(Xex1data1,a1b,yex1data1,Theta,b,0.001)"
   ]
  },
  {
   "cell_type": "code",
   "execution_count": 24,
   "metadata": {},
   "outputs": [
    {
     "data": {
      "text/plain": [
       "[array([ 4.48341145]),\n",
       " array([-0.46719452]),\n",
       " array([ 4.65051348]),\n",
       " array([ 1.16636235]),\n",
       " array([-3.63029144])]"
      ]
     },
     "execution_count": 24,
     "metadata": {},
     "output_type": "execute_result"
    }
   ],
   "source": [
    "result1500[-1][3:]"
   ]
  },
  {
   "cell_type": "code",
   "execution_count": 69,
   "metadata": {},
   "outputs": [],
   "source": [
    "result10 = gradDesc(Xex1data1,yex1data1,Theta,b,0.001,10)"
   ]
  },
  {
   "cell_type": "code",
   "execution_count": 85,
   "metadata": {},
   "outputs": [
    {
     "data": {
      "text/plain": [
       "(array([ 4.14748496,  8.29496992]), array([ 0.22104595,  4.36853091]))"
      ]
     },
     "execution_count": 85,
     "metadata": {},
     "output_type": "execute_result"
    }
   ],
   "source": [
    "feedfwd(np.array([3.5,7]).reshape((2,1)),result1500[-1][-2],result1500[-1][-1])"
   ]
  },
  {
   "cell_type": "code",
   "execution_count": 84,
   "metadata": {},
   "outputs": [
    {
     "data": {
      "text/plain": [
       "[array([  6.54972916,  10.09362354,   8.29803775,   6.94323189,\n",
       "          9.93283365,   8.85872878,  10.16412463,   7.68544843,\n",
       "          5.98915661,   6.76656445,  16.78281452,   6.79417244,\n",
       "          9.9630484 ,   6.68362199,   6.37400963,   7.54231344,\n",
       "          6.07861598,   7.61838352,   8.37813647,   7.33341693,\n",
       "         24.0177669 ,   6.50517721,   7.49574717,   6.59380715,\n",
       "         22.4477846 ,  15.19979841,  12.98286492,  15.61214093,\n",
       "         26.30816371,   6.22352831,   7.80772931,  10.95812096,\n",
       "          6.98114845,   9.72926915,   9.40022456,   9.59276956,\n",
       "          6.64286169,  15.20927755,   7.52809473,   6.40659417,\n",
       "          8.15502125,  13.87271903,   6.84121267,   9.27142677,\n",
       "          8.40455956,   6.00764093,   6.87403418,  13.8632399 ,\n",
       "          6.56619916,   8.93432491,   6.28905285,   8.79652194,\n",
       "          9.00885464,   7.50368595,   7.53461164,   7.43425126,\n",
       "          6.6824371 ,  11.03158428,  11.20149784,  10.45714849,\n",
       "          6.13691268,  25.21332322,  17.66437439,  22.46437309,\n",
       "          8.55278959,   9.82880011,  12.12855757,   6.51619671,\n",
       "         24.10189425,  12.01006834,   8.69059256,   7.11670012,\n",
       "          8.56191326,   5.9563351 ,   7.75855628,   8.93242908,\n",
       "          5.96771006,  12.17358348,   6.05207439,   6.78848496,\n",
       "          6.1476952 ,   7.53081998,  11.5748574 ,   7.72063973,\n",
       "         10.09196469,  10.87754828,   7.11172358,   6.54107945,\n",
       "          5.9948441 ,   6.76300977,   9.04854853,   6.95614722,\n",
       "          6.2863276 ,   9.82678579,  15.87044745,   6.44214094]),\n",
       " array([  2.62432256,   6.16821694,   4.37263115,   3.01782529,\n",
       "          6.00742705,   4.93332218,   6.23871803,   3.76004183,\n",
       "          2.06375001,   2.84115785,  12.85740792,   2.86876584,\n",
       "          6.0376418 ,   2.75821539,   2.44860303,   3.61690684,\n",
       "          2.15320938,   3.69297692,   4.45272987,   3.40801033,\n",
       "         20.09236029,   2.57977061,   3.57034057,   2.66840055,\n",
       "         18.522378  ,  11.27439181,   9.05745832,  11.68673433,\n",
       "         22.38275711,   2.29812171,   3.88232271,   7.03271436,\n",
       "          3.05574184,   5.80386255,   5.47481796,   5.66736296,\n",
       "          2.71745509,  11.28387095,   3.60268813,   2.48118757,\n",
       "          4.22961465,   9.94731243,   2.91580606,   5.34602017,\n",
       "          4.47915296,   2.08223433,   2.94862758,   9.93783329,\n",
       "          2.64079256,   5.00891831,   2.36364625,   4.87111534,\n",
       "          5.08344804,   3.57827935,   3.60920504,   3.50884466,\n",
       "          2.7570305 ,   7.10617768,   7.27609123,   6.53174189,\n",
       "          2.21150608,  21.28791662,  13.73896779,  18.53896649,\n",
       "          4.62738299,   5.90339351,   8.20315097,   2.59079011,\n",
       "         20.17648765,   8.08466174,   4.76518596,   3.19129352,\n",
       "          4.63650666,   2.0309285 ,   3.83314968,   5.00702248,\n",
       "          2.04230346,   8.24817688,   2.12666779,   2.86307836,\n",
       "          2.2222886 ,   3.60541338,   7.6494508 ,   3.79523313,\n",
       "          6.16655809,   6.95214168,   3.18631698,   2.61567285,\n",
       "          2.0694375 ,   2.83760317,   5.12314193,   3.03074062,\n",
       "          2.360921  ,   5.90137919,  11.94504085,   2.51673434]),\n",
       " array([[-6.50587744],\n",
       "        [-7.49378306],\n",
       "        [-7.48136885],\n",
       "        [-3.80547471],\n",
       "        [-5.87857295],\n",
       "        [ 0.58502218],\n",
       "        [-5.76128197],\n",
       "        [-2.83865817],\n",
       "        [-1.75284999],\n",
       "        [-0.41104215],\n",
       "        [-2.64759208],\n",
       "        [-0.28633416],\n",
       "        [-1.1881582 ],\n",
       "        [ 2.04203539],\n",
       "        [-1.06429697],\n",
       "        [-1.68789316],\n",
       "        [ 1.59243938],\n",
       "        [ 0.04117692],\n",
       "        [-0.93657013],\n",
       "        [ 0.26941033],\n",
       "        [-1.67463971],\n",
       "        [-1.68322939],\n",
       "        [-1.61715943],\n",
       "        [-0.41409945],\n",
       "        [-4.115622  ],\n",
       "        [-2.22660819],\n",
       "        [ 2.01075832],\n",
       "        [-3.00526567],\n",
       "        [-1.76424289],\n",
       "        [ 3.51812171],\n",
       "        [-2.11427729],\n",
       "        [-5.10128564],\n",
       "        [ 1.20624184],\n",
       "        [-0.73873745],\n",
       "        [ 0.91251796],\n",
       "        [ 1.55096296],\n",
       "        [-0.67534491],\n",
       "        [ 1.16687095],\n",
       "        [-1.89471187],\n",
       "        [ 1.92461757],\n",
       "        [ 0.31811465],\n",
       "        [ 4.56191243],\n",
       "        [ 0.47520606],\n",
       "        [-1.38577983],\n",
       "        [ 3.43285296],\n",
       "        [-3.05146567],\n",
       "        [ 1.10462758],\n",
       "        [ 1.93353329],\n",
       "        [ 1.62289256],\n",
       "        [-1.74148169],\n",
       "        [ 0.52404625],\n",
       "        [ 0.58261534],\n",
       "        [ 0.08534804],\n",
       "        [ 2.15497935],\n",
       "        [ 5.03030504],\n",
       "        [ 1.03324466],\n",
       "        [-1.8471695 ],\n",
       "        [ 3.14377768],\n",
       "        [ 1.86199123],\n",
       "        [ 1.36234189],\n",
       "        [ 2.95429608],\n",
       "        [ 3.35891662],\n",
       "        [ 1.68496779],\n",
       "        [ 1.48496649],\n",
       "        [-0.25781701],\n",
       "        [ 0.15919351],\n",
       "        [ 0.42775097],\n",
       "        [ 1.57349011],\n",
       "        [-0.81551235],\n",
       "        [ 1.40476174],\n",
       "        [ 0.73928596],\n",
       "        [ 1.91289352],\n",
       "        [ 1.29540666],\n",
       "        [ 4.7116285 ],\n",
       "        [ 3.53636968],\n",
       "        [ 1.12252248],\n",
       "        [-3.65909654],\n",
       "        [ 1.49557688],\n",
       "        [ 0.06906779],\n",
       "        [ 2.38354836],\n",
       "        [ 2.0180786 ],\n",
       "        [ 2.92680338],\n",
       "        [ 0.1059508 ],\n",
       "        [-1.54836687],\n",
       "        [ 1.92505809],\n",
       "        [ 0.15404168],\n",
       "        [ 2.25936698],\n",
       "        [ 2.46367285],\n",
       "        [-0.7519625 ],\n",
       "        [ 0.99250317],\n",
       "        [ 0.82724193],\n",
       "        [-4.17215938],\n",
       "        [ 0.374021  ],\n",
       "        [ 5.75683919],\n",
       "        [ 2.88994085],\n",
       "        [ 1.89968434]]),\n",
       " array([ 3.46704693]),\n",
       " array([-0.49678601]),\n",
       " array([ 4.96002126]),\n",
       " array([ 1.18494405]),\n",
       " array([-3.92592327])]"
      ]
     },
     "execution_count": 84,
     "metadata": {},
     "output_type": "execute_result"
    }
   ],
   "source": [
    "result1500[-2]"
   ]
  },
  {
   "cell_type": "code",
   "execution_count": 73,
   "metadata": {},
   "outputs": [
    {
     "data": {
      "text/plain": [
       "(96,)"
      ]
     },
     "execution_count": 73,
     "metadata": {},
     "output_type": "execute_result"
    }
   ],
   "source": [
    "a1b.shape"
   ]
  },
  {
   "cell_type": "code",
   "execution_count": 91,
   "metadata": {},
   "outputs": [
    {
     "data": {
      "text/plain": [
       "[<matplotlib.lines.Line2D at 0x7fdff2a01090>]"
      ]
     },
     "execution_count": 91,
     "metadata": {},
     "output_type": "execute_result"
    },
    {
     "data": {
      "image/png": "[encoded data removed]",
      "text/plain": [
       "<matplotlib.figure.Figure at 0x7fdff2d00190>"
      ]
     },
     "metadata": {},
     "output_type": "display_data"
    }
   ],
   "source": [
    "plt.plot( np.array(result1500)[:,3])"
   ]
  },
  {
   "cell_type": "code",
   "execution_count": 93,
   "metadata": {},
   "outputs": [
    {
     "data": {
      "text/plain": [
       "[<matplotlib.lines.Line2D at 0x7fdff0f91b50>]"
      ]
     },
     "execution_count": 93,
     "metadata": {},
     "output_type": "execute_result"
    },
    {
     "data": {
      "image/png": "[encoded data removed]",
      "text/plain": [
       "<matplotlib.figure.Figure at 0x7fdff0c46c10>"
      ]
     },
     "metadata": {},
     "output_type": "display_data"
    }
   ],
   "source": [
    "plt.plot( np.array(result1500)[2:,3])"
   ]
  },
  {
   "cell_type": "markdown",
   "metadata": {},
   "source": [
    "# Multi-dim. linear regression case  \n",
    "## Feature Normalized, normalize features  \n",
    "\n",
    "cf. [4.3. Preprocessing data](http://scikit-learn.org/stable/modules/preprocessing.html#normalization)"
   ]
  },
  {
   "cell_type": "code",
   "execution_count": 1,
   "metadata": {},
   "outputs": [],
   "source": [
    "# http://scikit-learn.org/stable/modules/preprocessing.html#normalization\n",
    "import sklearn\n",
    "from sklearn import preprocessing"
   ]
  },
  {
   "cell_type": "code",
   "execution_count": 31,
   "metadata": {},
   "outputs": [],
   "source": [
    "Xex1data2 = preprocessing.normalize(ex1data2DF.values[:,:-1].astype(np.float32), axis=0, norm='l2' )"
   ]
  },
  {
   "cell_type": "code",
   "execution_count": 32,
   "metadata": {},
   "outputs": [
    {
     "name": "stdout",
     "output_type": "stream",
     "text": [
      "float32\n"
     ]
    },
    {
     "data": {
      "text/plain": [
       "array([[ 0.14276983,  0.13429844],\n",
       "       [ 0.10857021,  0.13429844],\n",
       "       [ 0.16285531,  0.13429844],\n",
       "       [ 0.09608463,  0.08953229],\n",
       "       [ 0.20356914,  0.17906459],\n",
       "       [ 0.13469492,  0.17906459],\n",
       "       [ 0.10409169,  0.13429844],\n",
       "       [ 0.09683105,  0.13429844],\n",
       "       [ 0.0936418 ,  0.13429844],\n",
       "       [ 0.10137744,  0.13429844],\n",
       "       [ 0.13164137,  0.17906459],\n",
       "       [ 0.13571276,  0.13429844],\n",
       "       [ 0.12824856,  0.13429844],\n",
       "       [ 0.30386087,  0.22383073],\n",
       "       [ 0.08604189,  0.13429844],\n",
       "       [ 0.15606968,  0.17906459],\n",
       "       [ 0.08957042,  0.08953229],\n",
       "       [ 0.08387049,  0.13429844],\n",
       "       [ 0.1770373 ,  0.17906459],\n",
       "       [ 0.20567268,  0.17906459],\n",
       "       [ 0.11990222,  0.13429844],\n",
       "       [ 0.12811285,  0.08953229],\n",
       "       [ 0.10884164,  0.13429844],\n",
       "       [ 0.13313422,  0.17906459],\n",
       "       [ 0.26396132,  0.13429844],\n",
       "       [ 0.07464202,  0.13429844],\n",
       "       [ 0.0989346 ,  0.13429844],\n",
       "       [ 0.17140521,  0.13429844],\n",
       "       [ 0.14928403,  0.13429844],\n",
       "       [ 0.17893727,  0.13429844],\n",
       "       [ 0.12478788,  0.08953229],\n",
       "       [ 0.06785638,  0.04476615],\n",
       "       [ 0.13842702,  0.17906459],\n",
       "       [ 0.21286546,  0.13429844],\n",
       "       [ 0.1228879 ,  0.17906459],\n",
       "       [ 0.09750962,  0.13429844],\n",
       "       [ 0.08407406,  0.13429844],\n",
       "       [ 0.1446698 ,  0.17906459],\n",
       "       [ 0.28601465,  0.17906459],\n",
       "       [ 0.14670549,  0.17906459],\n",
       "       [ 0.11291301,  0.08953229],\n",
       "       [ 0.15186258,  0.13429844],\n",
       "       [ 0.17418733,  0.17906459],\n",
       "       [ 0.08142766,  0.13429844],\n",
       "       [ 0.05781364,  0.08953229],\n",
       "       [ 0.12567002,  0.17906459],\n",
       "       [ 0.08163123,  0.13429844]], dtype=float32)"
      ]
     },
     "execution_count": 32,
     "metadata": {},
     "output_type": "execute_result"
    }
   ],
   "source": [
    "print( Xex1data2.dtype)\n",
    "Xex1data2"
   ]
  },
  {
   "cell_type": "markdown",
   "metadata": {},
   "source": [
    "### [`numpy.ndarray.tofile`](https://docs.scipy.org/doc/numpy-1.13.0/reference/generated/numpy.ndarray.tofile.html)  \n",
    "\n",
    "`ndarray.tofile(fid,sep=\"\",format=\"%s\")`  \n",
    "\n",
    "Write array to a file as text or binary (default).  \n",
    "\n",
    "Data always written in 'C' order, independent of order of *a*.  \n",
    "\n",
    "#### Parameters  \n",
    "**fid** : *file or str*  \n",
    "        An open file object, or string containing filename.  \n",
    "**sep** : *str*\n",
    "        Separator between array items for text output.  If \"\" (empty), a binary file is written, equivalent to `file.write(a.tobytes())`  \n",
    "**format** : *str*\n",
    "        Format string for text file output.  Each entry in the array is formatted to text by first converting it to closest Python type, and then using \"format\" % item.  "
   ]
  },
  {
   "cell_type": "code",
   "execution_count": 33,
   "metadata": {},
   "outputs": [],
   "source": [
    "Xex1data2.tofile(\"../data/\" + \"Xex1data2.npy\")"
   ]
  },
  {
   "cell_type": "markdown",
   "metadata": {},
   "source": [
    "Then go to CUDA C++14 file (e.g. `cuBlackDreams/examples/linreg.cu` in thise case).  Load it with [`std::ifstream`](http://www.cplusplus.com/reference/fstream/ifstream/), Input stream class to operate on files.  This function has been wrapped up in the function you'll find in `cuBlackDreams/src/FileIO.h`, `cuBlackDreams/src/FileIO.cpp`,  \n",
    "\n",
    "** `npy2fvec` ** or ** std::vector<float> npy2fvec( std::string &, const int m, const int n) **  \n",
    "\n",
    "The **most important thing to note** is that NumPy reshapes (`.reshape`) into **row-major ordering**, i.e.  \n",
    "\n",
    "$$  \n",
    "\\lbrace 0,1,\\dots mn-1 \\rbrace \\to \\lbrace 0,1, \\dots m-1 \\rbrace \\times \\lbrace 0,1, \\dots n-1 \\rbrace \\\\\n",
    "k \\mapsto (k/n, k \\mod{n}) \\\\ \n",
    "$$\n",
    "\n",
    "and so we'll read in this binary file, with `std::ifstream` and `.read(...)` in C++ in row-major ordering assumed for the matrix $A$.  *Or*, I've wrapped up the procedure, serially (i.e. `for` loop), to convert to column-major ordering for a *flattened* matrix, in `npy2fvec` in `cuBlackDreams/src/FileIO.h`.  \n",
    "\n",
    "\n",
    "### `std::ifstream`   \n",
    "```  \n",
    "typedef basic_ifstream<char> ifstream;  \n",
    "```  \n",
    "\n",
    "### [`reinterpret_cast`](http://en.cppreference.com/w/cpp/language/reinterpret_cast)  \n",
    "```  \n",
    "reinterpret_cast < new_type > ( expression )  \n",
    "```  \n",
    "Returns a value of type new_type.  "
   ]
  },
  {
   "cell_type": "code",
   "execution_count": 34,
   "metadata": {},
   "outputs": [],
   "source": [
    "# sanity check\n",
    "Xex1data2_in = np.fromfile(\"../data/\"+ \"Xex1data2.npy\", dtype=np.float32)"
   ]
  },
  {
   "cell_type": "code",
   "execution_count": 35,
   "metadata": {},
   "outputs": [
    {
     "data": {
      "text/plain": [
       "array([ 0.14276983,  0.13429844,  0.10857021,  0.13429844,  0.16285531,\n",
       "        0.13429844,  0.09608463,  0.08953229,  0.20356914,  0.17906459,\n",
       "        0.13469492,  0.17906459,  0.10409169,  0.13429844,  0.09683105,\n",
       "        0.13429844,  0.0936418 ,  0.13429844,  0.10137744,  0.13429844,\n",
       "        0.13164137,  0.17906459,  0.13571276,  0.13429844,  0.12824856,\n",
       "        0.13429844,  0.30386087,  0.22383073,  0.08604189,  0.13429844,\n",
       "        0.15606968,  0.17906459,  0.08957042,  0.08953229,  0.08387049,\n",
       "        0.13429844,  0.1770373 ,  0.17906459,  0.20567268,  0.17906459,\n",
       "        0.11990222,  0.13429844,  0.12811285,  0.08953229,  0.10884164,\n",
       "        0.13429844,  0.13313422,  0.17906459,  0.26396132,  0.13429844,\n",
       "        0.07464202,  0.13429844,  0.0989346 ,  0.13429844,  0.17140521,\n",
       "        0.13429844,  0.14928403,  0.13429844,  0.17893727,  0.13429844,\n",
       "        0.12478788,  0.08953229,  0.06785638,  0.04476615,  0.13842702,\n",
       "        0.17906459,  0.21286546,  0.13429844,  0.1228879 ,  0.17906459,\n",
       "        0.09750962,  0.13429844,  0.08407406,  0.13429844,  0.1446698 ,\n",
       "        0.17906459,  0.28601465,  0.17906459,  0.14670549,  0.17906459,\n",
       "        0.11291301,  0.08953229,  0.15186258,  0.13429844,  0.17418733,\n",
       "        0.17906459,  0.08142766,  0.13429844,  0.05781364,  0.08953229,\n",
       "        0.12567002,  0.17906459,  0.08163123,  0.13429844], dtype=float32)"
      ]
     },
     "execution_count": 35,
     "metadata": {},
     "output_type": "execute_result"
    }
   ],
   "source": [
    "Xex1data2_in"
   ]
  },
  {
   "cell_type": "code",
   "execution_count": null,
   "metadata": {},
   "outputs": [],
   "source": []
  }
 ],
 "metadata": {
  "kernelspec": {
   "display_name": "Python 2",
   "language": "python",
   "name": "python2"
  },
  "language_info": {
   "codemirror_mode": {
    "name": "ipython",
    "version": 2
   },
   "file_extension": ".py",
   "mimetype": "text/x-python",
   "name": "python",
   "nbconvert_exporter": "python",
   "pygments_lexer": "ipython2",
   "version": "2.7.13"
  }
 },
 "nbformat": 4,
 "nbformat_minor": 2
}
