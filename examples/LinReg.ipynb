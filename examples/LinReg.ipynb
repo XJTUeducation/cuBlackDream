{
 "cells": [
  {
   "cell_type": "code",
   "execution_count": 1,
   "metadata": {},
   "outputs": [],
   "source": [
    "%matplotlib inline"
   ]
  },
  {
   "cell_type": "code",
   "execution_count": 2,
   "metadata": {},
   "outputs": [],
   "source": [
    "import matplotlib.pyplot as plt"
   ]
  },
  {
   "cell_type": "code",
   "execution_count": 3,
   "metadata": {},
   "outputs": [],
   "source": [
    "import numpy\n",
    "import numpy as np\n",
    "import pandas\n",
    "import pandas as pd"
   ]
  },
  {
   "cell_type": "code",
   "execution_count": 6,
   "metadata": {},
   "outputs": [
    {
     "name": "stdout",
     "output_type": "stream",
     "text": [
      "/home/topolo/PropD/cuBlackDream/examples\n",
      "['ex1data1.txt', 'ex1data2.txt']\n"
     ]
    }
   ],
   "source": [
    "import os, sys\n",
    "print(os.getcwd() )\n",
    "print( os.listdir( \"../data/\") )"
   ]
  },
  {
   "cell_type": "code",
   "execution_count": 9,
   "metadata": {},
   "outputs": [],
   "source": [
    "ex1data1DF = pd.read_csv(\"../data/ex1data1.txt\")\n",
    "ex1data2DF = pd.read_csv(\"../data/ex1data2.txt\")"
   ]
  },
  {
   "cell_type": "code",
   "execution_count": 21,
   "metadata": {},
   "outputs": [
    {
     "name": "stdout",
     "output_type": "stream",
     "text": [
      "(96,)\n",
      "(96,)\n",
      "(46, 2)\n",
      "(46,)\n",
      "(96, 1)\n",
      "(96, 1)\n",
      "(46, 2)\n",
      "(46, 1)\n"
     ]
    }
   ],
   "source": [
    "Xyex1data1 = ex1data1DF.values\n",
    "Xex1data1 = Xyex1data1[:,0]\n",
    "yex1data1 = Xyex1data1[:,1]\n",
    "Xyex1data2 = ex1data2DF.values\n",
    "Xex1data2 = Xyex1data2[:,0:-1]\n",
    "yex1data2 = Xyex1data2[:,-1]\n",
    "print(Xex1data1.shape)\n",
    "print(yex1data1.shape)\n",
    "print(Xex1data2.shape)\n",
    "print(yex1data2.shape)\n",
    "Xex1data1 = np.vstack( Xex1data1 )\n",
    "yex1data1 = np.vstack( yex1data1 )\n",
    "yex1data2 = np.vstack( yex1data2 )\n",
    "print(Xex1data1.shape)\n",
    "print(yex1data1.shape)\n",
    "print(Xex1data2.shape)\n",
    "print(yex1data2.shape)"
   ]
  },
  {
   "cell_type": "code",
   "execution_count": 22,
   "metadata": {},
   "outputs": [],
   "source": [
    "Theta=np.array([0.])\n",
    "b = np.array([0.])"
   ]
  },
  {
   "cell_type": "code",
   "execution_count": 26,
   "metadata": {},
   "outputs": [
    {
     "name": "stdout",
     "output_type": "stream",
     "text": [
      "[ 0.  0.  0.  0.  0.  0.  0.  0.  0.  0.  0.  0.  0.  0.  0.  0.  0.  0.\n",
      "  0.  0.  0.  0.  0.  0.  0.  0.  0.  0.  0.  0.  0.  0.  0.  0.  0.  0.\n",
      "  0.  0.  0.  0.  0.  0.  0.  0.  0.  0.  0.  0.  0.  0.  0.  0.  0.  0.\n",
      "  0.  0.  0.  0.  0.  0.  0.  0.  0.  0.  0.  0.  0.  0.  0.  0.  0.  0.\n",
      "  0.  0.  0.  0.  0.  0.  0.  0.  0.  0.  0.  0.  0.  0.  0.  0.  0.  0.\n",
      "  0.  0.  0.  0.  0.  0.]\n"
     ]
    }
   ],
   "source": [
    "a1 = np.matmul( Xex1data1, Theta) + b\n",
    "print(a1)"
   ]
  },
  {
   "cell_type": "code",
   "execution_count": 32,
   "metadata": {},
   "outputs": [
    {
     "name": "stdout",
     "output_type": "stream",
     "text": [
      "[ -9.1302  -13.662   -11.854    -6.8233  -11.886    -4.3483  -12.       -6.5987\n",
      "  -3.8166   -3.2522  -15.505    -3.1551   -7.2258   -0.71618  -3.5129\n",
      "  -5.3048   -0.56077  -3.6518   -5.3893   -3.1386  -21.767    -4.263\n",
      "  -5.1875   -3.0825  -22.638   -13.501    -7.0467  -14.692   -24.147     1.22\n",
      "  -5.9966  -12.134    -1.8495   -6.5426   -4.5623   -4.1164   -3.3928\n",
      " -10.117    -5.4974   -0.55657  -3.9115   -5.3854   -2.4406   -6.7318\n",
      "  -1.0463   -5.1337   -1.844    -8.0043   -1.0179   -6.7504   -1.8396\n",
      "  -4.2885   -4.9981   -1.4233    1.4211   -2.4756   -4.6042   -3.9624\n",
      "  -5.4141   -5.1694    0.74279 -17.929   -12.054   -17.054    -4.8852\n",
      "  -5.7442   -7.7754   -1.0173  -20.992    -6.6799   -4.0259   -1.2784\n",
      "  -3.3411    2.6807   -0.29678  -3.8845   -5.7014   -6.7526   -2.0576\n",
      "  -0.47953  -0.20421  -0.67861  -7.5435   -5.3436   -4.2415   -6.7981\n",
      "  -0.92695  -0.152    -2.8214   -1.8451   -4.2959   -7.2029   -1.9869\n",
      "  -0.14454  -9.0551   -0.61705]\n"
     ]
    }
   ],
   "source": [
    "res = np.vstack(a1) - yex1data1\n",
    "print(np.hstack(res))"
   ]
  },
  {
   "cell_type": "code",
   "execution_count": 33,
   "metadata": {},
   "outputs": [
    {
     "data": {
      "text/plain": [
       "array([ 5912.63190823])"
      ]
     },
     "execution_count": 33,
     "metadata": {},
     "output_type": "execute_result"
    }
   ],
   "source": [
    "np.matmul( np.hstack(res) , res)"
   ]
  },
  {
   "cell_type": "code",
   "execution_count": 37,
   "metadata": {},
   "outputs": [
    {
     "data": {
      "text/plain": [
       "array([ 30.79495786])"
      ]
     },
     "execution_count": 37,
     "metadata": {},
     "output_type": "execute_result"
    }
   ],
   "source": [
    "0.5 * np.matmul( np.hstack(res) , res) / (float( Xex1data1.size ) )"
   ]
  },
  {
   "cell_type": "code",
   "execution_count": 36,
   "metadata": {},
   "outputs": [
    {
     "data": {
      "text/plain": [
       "96"
      ]
     },
     "execution_count": 36,
     "metadata": {},
     "output_type": "execute_result"
    }
   ],
   "source": [
    "Xex1data1.size"
   ]
  },
  {
   "cell_type": "code",
   "execution_count": 39,
   "metadata": {},
   "outputs": [
    {
     "data": {
      "text/plain": [
       "array([-64.88968277])"
      ]
     },
     "execution_count": 39,
     "metadata": {},
     "output_type": "execute_result"
    }
   ],
   "source": [
    "np.matmul( np.hstack(res) , Xex1data1) / (float( Xex1data1.size ))"
   ]
  },
  {
   "cell_type": "code",
   "execution_count": null,
   "metadata": {},
   "outputs": [],
   "source": [
    "def grad_desc_1( yhat, y , Theta, b, alpha): \n",
    "    res = yhat - y "
   ]
  }
 ],
 "metadata": {
  "kernelspec": {
   "display_name": "Python 2",
   "language": "python",
   "name": "python2"
  },
  "language_info": {
   "codemirror_mode": {
    "name": "ipython",
    "version": 2
   },
   "file_extension": ".py",
   "mimetype": "text/x-python",
   "name": "python",
   "nbconvert_exporter": "python",
   "pygments_lexer": "ipython2",
   "version": "2.7.13"
  }
 },
 "nbformat": 4,
 "nbformat_minor": 2
}
